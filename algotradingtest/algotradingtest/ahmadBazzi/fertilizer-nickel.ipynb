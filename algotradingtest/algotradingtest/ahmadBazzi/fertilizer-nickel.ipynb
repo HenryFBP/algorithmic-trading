{
 "cells": [
  {
   "cell_type": "code",
   "execution_count": 21,
   "id": "3fb2b413-b78f-4a9d-bd78-7aa684c0625f",
   "metadata": {},
   "outputs": [],
   "source": [
    "import pandas_datareader.data as web\n",
    "from pandas_datareader._utils import RemoteDataError\n",
    "import datetime\n",
    "import matplotlib.pyplot as plt\n",
    "import numpy as np\n",
    "import pandas as pd\n",
    "from functools import lru_cache\n",
    "%matplotlib inline"
   ]
  },
  {
   "cell_type": "code",
   "execution_count": 17,
   "id": "c57743de-e6e8-41de-b6a7-3a7a30db4edc",
   "metadata": {},
   "outputs": [],
   "source": [
    "@lru_cache #cache so we dont download shit all the time\n",
    "def gimme_da_stock(ticker:str,\n",
    "                   source:str,\n",
    "                   start:datetime.datetime,\n",
    "                   end:datetime.datetime,) -> pd.DataFrame:\n",
    "    return web.DataReader(ticker,source,start,end)"
   ]
  },
  {
   "cell_type": "code",
   "execution_count": 24,
   "id": "5135acf4-e52e-4ac6-ac94-e3c68394eaa4",
   "metadata": {},
   "outputs": [
    {
     "name": "stdout",
     "output_type": "stream",
     "text": [
      "['SBSW', 'MTRN', 'NIC', 'GMKN', 'CNC', 'POS', 'NICK', 'VALE', '2362', 'GLEN', 'BHP', 'RRR', 'TSLA']\n",
      "No data fetched for symbol GMKN using YahooDailyReader\n",
      "No data fetched for symbol 2362 using YahooDailyReader\n",
      "No data fetched for symbol GLEN using YahooDailyReader\n"
     ]
    }
   ],
   "source": [
    "start=datetime.datetime(2012,1,1)\n",
    "end=datetime.datetime(2022,1,1)\n",
    "\n",
    "stock_list = 'SBSW MTRN NIC GMKN CNC POS NICK VALE 2362 GLEN BHP RRR TSLA'.split(' ') #YOINK from https://www.finder.com/nickel-mining-stocks\n",
    "print(stock_list)\n",
    "\n",
    "stock_dict=dict()\n",
    "for stock_ticker in stock_list:\n",
    "    try:\n",
    "        stock_dict[stock_ticker] = gimme_da_stock(stock_ticker, 'yahoo', start, end)\n",
    "    except RemoteDataError as rde:\n",
    "        print(rde)\n",
    "        stock_dict[stock_ticker] = rde\n",
    "\n",
    "tesla=stock_dict['TSLA']"
   ]
  },
  {
   "cell_type": "code",
   "execution_count": 15,
   "id": "ebd91e2c-5c2f-4f04-87f9-b35da89b74df",
   "metadata": {},
   "outputs": [
    {
     "data": {
      "text/html": [
       "<div>\n",
       "<style scoped>\n",
       "    .dataframe tbody tr th:only-of-type {\n",
       "        vertical-align: middle;\n",
       "    }\n",
       "\n",
       "    .dataframe tbody tr th {\n",
       "        vertical-align: top;\n",
       "    }\n",
       "\n",
       "    .dataframe thead th {\n",
       "        text-align: right;\n",
       "    }\n",
       "</style>\n",
       "<table border=\"1\" class=\"dataframe\">\n",
       "  <thead>\n",
       "    <tr style=\"text-align: right;\">\n",
       "      <th></th>\n",
       "      <th>High</th>\n",
       "      <th>Low</th>\n",
       "      <th>Open</th>\n",
       "      <th>Close</th>\n",
       "      <th>Volume</th>\n",
       "      <th>Adj Close</th>\n",
       "    </tr>\n",
       "    <tr>\n",
       "      <th>Date</th>\n",
       "      <th></th>\n",
       "      <th></th>\n",
       "      <th></th>\n",
       "      <th></th>\n",
       "      <th></th>\n",
       "      <th></th>\n",
       "    </tr>\n",
       "  </thead>\n",
       "  <tbody>\n",
       "    <tr>\n",
       "      <th>2012-01-03</th>\n",
       "      <td>5.900</td>\n",
       "      <td>5.530</td>\n",
       "      <td>5.788</td>\n",
       "      <td>5.616</td>\n",
       "      <td>4640500.0</td>\n",
       "      <td>5.616</td>\n",
       "    </tr>\n",
       "    <tr>\n",
       "      <th>2012-01-04</th>\n",
       "      <td>5.734</td>\n",
       "      <td>5.500</td>\n",
       "      <td>5.642</td>\n",
       "      <td>5.542</td>\n",
       "      <td>3150500.0</td>\n",
       "      <td>5.542</td>\n",
       "    </tr>\n",
       "    <tr>\n",
       "      <th>2012-01-05</th>\n",
       "      <td>5.586</td>\n",
       "      <td>5.370</td>\n",
       "      <td>5.552</td>\n",
       "      <td>5.424</td>\n",
       "      <td>5027500.0</td>\n",
       "      <td>5.424</td>\n",
       "    </tr>\n",
       "    <tr>\n",
       "      <th>2012-01-06</th>\n",
       "      <td>5.558</td>\n",
       "      <td>5.282</td>\n",
       "      <td>5.440</td>\n",
       "      <td>5.382</td>\n",
       "      <td>4931500.0</td>\n",
       "      <td>5.382</td>\n",
       "    </tr>\n",
       "    <tr>\n",
       "      <th>2012-01-09</th>\n",
       "      <td>5.498</td>\n",
       "      <td>5.224</td>\n",
       "      <td>5.400</td>\n",
       "      <td>5.450</td>\n",
       "      <td>4485000.0</td>\n",
       "      <td>5.450</td>\n",
       "    </tr>\n",
       "  </tbody>\n",
       "</table>\n",
       "</div>"
      ],
      "text/plain": [
       "             High    Low   Open  Close     Volume  Adj Close\n",
       "Date                                                        \n",
       "2012-01-03  5.900  5.530  5.788  5.616  4640500.0      5.616\n",
       "2012-01-04  5.734  5.500  5.642  5.542  3150500.0      5.542\n",
       "2012-01-05  5.586  5.370  5.552  5.424  5027500.0      5.424\n",
       "2012-01-06  5.558  5.282  5.440  5.382  4931500.0      5.382\n",
       "2012-01-09  5.498  5.224  5.400  5.450  4485000.0      5.450"
      ]
     },
     "execution_count": 15,
     "metadata": {},
     "output_type": "execute_result"
    }
   ],
   "source": [
    "tesla.head()"
   ]
  }
 ],
 "metadata": {
  "kernelspec": {
   "display_name": "Python 3 (ipykernel)",
   "language": "python",
   "name": "python3"
  },
  "language_info": {
   "codemirror_mode": {
    "name": "ipython",
    "version": 3
   },
   "file_extension": ".py",
   "mimetype": "text/x-python",
   "name": "python",
   "nbconvert_exporter": "python",
   "pygments_lexer": "ipython3",
   "version": "3.9.2"
  }
 },
 "nbformat": 4,
 "nbformat_minor": 5
}
