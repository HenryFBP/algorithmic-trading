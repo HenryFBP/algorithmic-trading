{
 "cells": [
  {
   "cell_type": "code",
   "execution_count": 8,
   "id": "3c1eddc1-c0f9-4709-87b3-bea071175114",
   "metadata": {},
   "outputs": [
    {
     "data": {
      "text/markdown": [
       "<https://www.youtube.com/watch?v=57qAxRV577c>\n"
      ],
      "text/plain": [
       "<IPython.core.display.Markdown object>"
      ]
     },
     "metadata": {},
     "output_type": "display_data"
    }
   ],
   "source": [
    "%%markdown\n",
    "<https://www.youtube.com/watch?v=57qAxRV577c>"
   ]
  },
  {
   "cell_type": "code",
   "execution_count": 1,
   "id": "e396c784-e530-4b37-9132-6cffc08f6062",
   "metadata": {},
   "outputs": [],
   "source": [
    "import pandas_datareader.data as web\n",
    "import datetime\n",
    "import matplotlib.pyplot as plt\n",
    "import numpy as np\n",
    "%matplotlib inline"
   ]
  },
  {
   "cell_type": "code",
   "execution_count": 2,
   "id": "abf23819-a01d-4961-be29-acc893a784af",
   "metadata": {},
   "outputs": [],
   "source": [
    "start=datetime.datetime(2012,1,1)\n",
    "end=datetime.datetime(2017,1,1)"
   ]
  },
  {
   "cell_type": "code",
   "execution_count": 3,
   "id": "d0d67230-c73e-46bf-8256-95ddbe3bdaeb",
   "metadata": {},
   "outputs": [],
   "source": [
    "tesla=web.DataReader('TSLA','yahoo',start,end)\n",
    "ford =web.DataReader('F','yahoo',start,end)\n",
    "gm   =web.DataReader('GM','yahoo',start,end)"
   ]
  },
  {
   "cell_type": "code",
   "execution_count": 5,
   "id": "5065487e-b806-42de-9149-50bf7437abd4",
   "metadata": {},
   "outputs": [
    {
     "data": {
      "text/plain": [
       "<bound method NDFrame.to_csv of                  High        Low       Open      Close    Volume  Adj Close\n",
       "Date                                                                       \n",
       "2012-01-03   5.900000   5.530000   5.788000   5.616000   4640500   5.616000\n",
       "2012-01-04   5.734000   5.500000   5.642000   5.542000   3150500   5.542000\n",
       "2012-01-05   5.586000   5.370000   5.552000   5.424000   5027500   5.424000\n",
       "2012-01-06   5.558000   5.282000   5.440000   5.382000   4931500   5.382000\n",
       "2012-01-09   5.498000   5.224000   5.400000   5.450000   4485000   5.450000\n",
       "...               ...        ...        ...        ...       ...        ...\n",
       "2016-12-23  42.689999  41.542000  41.599998  42.667999  23352500  42.667999\n",
       "2016-12-27  44.450001  42.883999  42.976002  43.905998  29578500  43.905998\n",
       "2016-12-28  44.759998  43.439999  44.306000  43.948002  18912500  43.948002\n",
       "2016-12-29  43.840000  42.824001  43.712002  42.936001  20225000  42.936001\n",
       "2016-12-30  43.500000  42.335999  43.259998  42.737999  23213000  42.737999\n",
       "\n",
       "[1258 rows x 6 columns]>"
      ]
     },
     "execution_count": 5,
     "metadata": {},
     "output_type": "execute_result"
    }
   ],
   "source": [
    "tesla.to_csv"
   ]
  }
 ],
 "metadata": {
  "kernelspec": {
   "display_name": "Python 3 (ipykernel)",
   "language": "python",
   "name": "python3"
  },
  "language_info": {
   "codemirror_mode": {
    "name": "ipython",
    "version": 3
   },
   "file_extension": ".py",
   "mimetype": "text/x-python",
   "name": "python",
   "nbconvert_exporter": "python",
   "pygments_lexer": "ipython3",
   "version": "3.9.2"
  }
 },
 "nbformat": 4,
 "nbformat_minor": 5
}
